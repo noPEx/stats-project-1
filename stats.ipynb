{
 "cells": [
  {
   "cell_type": "code",
   "execution_count": 1,
   "metadata": {},
   "outputs": [],
   "source": [
    "import pandas as pd\n",
    "import numpy as np"
   ]
  },
  {
   "cell_type": "code",
   "execution_count": 2,
   "metadata": {},
   "outputs": [],
   "source": [
    "def replace_dashes(df):\n",
    "    \"\"\"\n",
    "    Question 1\n",
    "    Replaces - with 0\n",
    "    returns nd\n",
    "    \"\"\"\n",
    "\n",
    "    nd = df.replace('-', 0)\n",
    "    return nd\n"
   ]
  },
  {
   "cell_type": "code",
   "execution_count": 5,
   "metadata": {},
   "outputs": [
    {
     "name": "stdout",
     "output_type": "stream",
     "text": [
      "    Pos              Team  Seasons Points GamesPlayed GamesWon GamesDrawn  \\\n",
      "0     1       Real Madrid       86   4385        2762     1647        552   \n",
      "1     2         Barcelona       86   4262        2762     1581        573   \n",
      "2     3   Atletico Madrid       80   3442        2614     1241        598   \n",
      "3     4          Valencia       82   3386        2664     1187        616   \n",
      "4     5   Athletic Bilbao       86   3368        2762     1209        633   \n",
      "..  ...               ...      ...    ...         ...      ...        ...   \n",
      "56   57             Xerez        1     34          38        8         10   \n",
      "57   58            Condal        1     22          30        7          8   \n",
      "58   59   Atletico Tetuan        1     19          30        7          5   \n",
      "59   60  Cultural Leonesa        1     14          30        5          4   \n",
      "60   61            Girona        1      0           0        0          0   \n",
      "\n",
      "   GamesLost GoalsFor GoalsAgainst Champion Runner-up Third Fourth Fifth  \\\n",
      "0        563     5947         3140       33        23     8      8     3   \n",
      "1        608     5900         3114       25        25    12     12     4   \n",
      "2        775     4534         3309       10         8    16      9     7   \n",
      "3        861     4398         3469        6         6    10     11    10   \n",
      "4        920     4631         3700        8         7    10      5     8   \n",
      "..       ...      ...          ...      ...       ...   ...    ...   ...   \n",
      "56        20       38           66        0         0     0      0     0   \n",
      "57        15       37           57        0         0     0      0     0   \n",
      "58        18       51           85        0         0     0      0     0   \n",
      "59        21       34           65        0         0     0      0     0   \n",
      "60         0        0            0        0         0     0      0     0   \n",
      "\n",
      "   Sixth   T    Debut Since/LastApp  BestPosition  \n",
      "0      4  79     1929          1929             1  \n",
      "1      6  83     1929          1929             1  \n",
      "2      6  56     1929       2002-03             1  \n",
      "3      7  50  1931-32       1987-88             1  \n",
      "4     10  49     1929          1929             1  \n",
      "..   ...  ..      ...           ...           ...  \n",
      "56     0   0  2009-10       2009-10            20  \n",
      "57     0   0  1956-57       1956-57            16  \n",
      "58     0   0  1951-52       1951-52            16  \n",
      "59     0   0  1955-56       1955-56            15  \n",
      "60     0   0  2017-18       2017-18             9  \n",
      "\n",
      "[61 rows x 20 columns]\n"
     ]
    }
   ],
   "source": [
    "df = pd.read_csv('Laliga.csv', skiprows=[0])\n",
    "nd = replace_dashes(df)\n",
    "print(nd)"
   ]
  },
  {
   "cell_type": "code",
   "execution_count": 6,
   "metadata": {},
   "outputs": [],
   "source": [
    "def filter_on_start(df):\n",
    "    \"\"\"\n",
    "    Question 2\n",
    "    Filters row and returns \n",
    "    \"\"\"\n",
    "\n",
    "    teams = []\n",
    "    for ind in df.index:\n",
    "        print(df['Team'][ind], df['Debut'][ind]) \n",
    "        debut =  df['Debut'][ind]\n",
    "\n",
    "        if '-' in debut:\n",
    "            start, end = list(map(int, debut.split('-')))\n",
    "            if start  >= 1930:\n",
    "                teams.append(df['Team'][ind])\n",
    "        else:\n",
    "            if int(debut) >= 1930 and int(debut) <= 1980:\n",
    "                teams.append(df['Team'][ind])\n",
    " \n",
    "    return teams"
   ]
  },
  {
   "cell_type": "code",
   "execution_count": 7,
   "metadata": {},
   "outputs": [
    {
     "name": "stdout",
     "output_type": "stream",
     "text": [
      "Real Madrid 1929\n",
      "Barcelona 1929\n",
      "Atletico Madrid 1929\n",
      "Valencia 1931-32\n",
      "Athletic Bilbao 1929\n",
      "Sevilla 1934-35\n",
      "Espanyol 1929\n",
      "Real Sociedad 1929\n",
      "Zaragoza 1939-40\n",
      "Real Betis 1932-33\n",
      "Deportivo La Coruna 1941-42\n",
      "Celta Vigo 1939-40\n",
      "Valladolid 1948-49\n",
      "Racing Santander 1929\n",
      "Sporting Gijon 1944-45\n",
      "Osasuna 1935-36\n",
      "Malaga 1949-50\n",
      "Oviedo 1933-34\n",
      "Mallorca 1960-61\n",
      "Las Palmas 1951-52\n",
      "Villarreal 1998-99\n",
      "Granada 1941-42\n",
      "Rayo Vallecano 1977-78\n",
      "Elche 1959-60\n",
      "Getafe 2004-05\n",
      "Hercules 1935-36\n",
      "Tenerife 1961-62\n",
      "Murcia 1940-41\n",
      "Alaves 1930-31\n",
      "Levante 1963-64\n",
      "Salamanca 1974-75\n",
      "Sabadell 1943-44\n",
      "Cadiz 1977-78\n",
      "Logrones 1987-88\n",
      "Castellon 1941-42\n",
      "Albacete 1991-92\n",
      "Almeria 2007-08\n",
      "Cordoba 1962-63\n",
      "Compostela 1994-95\n",
      "Recreativo 1978-79\n",
      "Burgos CF 1971-72\n",
      "Pontevedra 1963-64\n",
      "Numancia 1999-00\n",
      "Eibar 2014-15\n",
      "Arenas 1929\n",
      "Real Burgos 1990-91\n",
      "Gimnastic 1947-48\n",
      "Extremadura 1996-97\n",
      "Merida 1995-96\n",
      "Alcoyano 1945-46\n",
      "Jaen 1953-54\n",
      "Real Union 1929\n",
      "AD Almeria 1979-80\n",
      "Europa 1929\n",
      "Lleida 1950-51\n",
      "Leganes 2016-17\n",
      "Xerez 2009-10\n",
      "Condal 1956-57\n",
      "Atletico Tetuan 1951-52\n",
      "Cultural Leonesa 1955-56\n",
      "Girona 2017-18\n",
      "['Valencia', 'Sevilla', 'Zaragoza', 'Real Betis', 'Deportivo La Coruna', 'Celta Vigo', 'Valladolid', 'Sporting Gijon', 'Osasuna', 'Malaga', 'Oviedo', 'Mallorca', 'Las Palmas', 'Villarreal', 'Granada', 'Rayo Vallecano', 'Elche', 'Getafe', 'Hercules', 'Tenerife', 'Murcia', 'Alaves', 'Levante', 'Salamanca', 'Sabadell', 'Cadiz', 'Logrones', 'Castellon', 'Albacete', 'Almeria', 'Cordoba', 'Compostela', 'Recreativo', 'Burgos CF', 'Pontevedra', 'Numancia', 'Eibar', 'Real Burgos', 'Gimnastic', 'Extremadura', 'Merida', 'Alcoyano', 'Jaen', 'AD Almeria', 'Lleida', 'Leganes', 'Xerez', 'Condal', 'Atletico Tetuan', 'Cultural Leonesa', 'Girona']\n"
     ]
    }
   ],
   "source": [
    "print(filter_on_start(df))"
   ]
  },
  {
   "cell_type": "code",
   "execution_count": 9,
   "metadata": {},
   "outputs": [],
   "source": [
    "def top_5_teams(df):\n",
    "    df[ [\"Points\"] ] = df[ [\"Points\"] ].apply(pd.to_numeric)\n",
    "    \n",
    "    top5 = df.nlargest(5, \"Points\")\n",
    "\n",
    "    teams = []\n",
    "    for ind in top5.index:\n",
    "        teams.append( top5['Team'][ind] )\n",
    "\n",
    "    return teams\n"
   ]
  },
  {
   "cell_type": "code",
   "execution_count": 10,
   "metadata": {},
   "outputs": [
    {
     "name": "stdout",
     "output_type": "stream",
     "text": [
      "['Real Madrid', 'Barcelona', 'Atletico Madrid', 'Valencia', 'Athletic Bilbao']\n"
     ]
    }
   ],
   "source": [
    "print(top_5_teams(nd))"
   ]
  },
  {
   "cell_type": "code",
   "execution_count": 11,
   "metadata": {},
   "outputs": [],
   "source": [
    "def Goal_diff_count(df):\n",
    "    \n",
    "    teams = []\n",
    "    for ind in df.index:\n",
    "        teams.append( (df['Team'][ind], int(df['GoalsAgainst'][ind]) - int(df['GoalsFor'][ind])) )\n",
    "\n",
    "    max_diff_team = max(teams, key = lambda x: x[1])\n",
    "    min_diff_team = min(teams, key = lambda x: x[1])\n",
    "\n",
    "    return max_diff_team[0], min_diff_team[0]"
   ]
  },
  {
   "cell_type": "code",
   "execution_count": 12,
   "metadata": {},
   "outputs": [
    {
     "name": "stdout",
     "output_type": "stream",
     "text": [
      "('Racing Santander', 'Real Madrid')\n"
     ]
    }
   ],
   "source": [
    "print(Goal_diff_count(nd))"
   ]
  },
  {
   "cell_type": "code",
   "execution_count": 13,
   "metadata": {},
   "outputs": [],
   "source": [
    "def add_winning_percent_column(df):\n",
    "\n",
    "    percent_list = []\n",
    "    for ind in df.index:\n",
    "        total_matches = int(df['GamesPlayed'][ind]) + int(df['GamesWon'][ind]) + int(df['GamesDrawn'][ind])\n",
    "        if total_matches <= 0.0:\n",
    "            percent_list.append(0)\n",
    "            continue\n",
    "        win_percent = (int(df['GamesWon'][ind])*1.0) / total_matches\n",
    "        percent_list.append(win_percent)\n",
    "\n",
    "    df[\"Winning Percent\"] = percent_list "
   ]
  },
  {
   "cell_type": "code",
   "execution_count": 14,
   "metadata": {},
   "outputs": [
    {
     "name": "stdout",
     "output_type": "stream",
     "text": [
      "    Pos              Team  Seasons  Points GamesPlayed GamesWon GamesDrawn  \\\n",
      "0     1       Real Madrid       86    4385        2762     1647        552   \n",
      "1     2         Barcelona       86    4262        2762     1581        573   \n",
      "2     3   Atletico Madrid       80    3442        2614     1241        598   \n",
      "3     4          Valencia       82    3386        2664     1187        616   \n",
      "4     5   Athletic Bilbao       86    3368        2762     1209        633   \n",
      "..  ...               ...      ...     ...         ...      ...        ...   \n",
      "56   57             Xerez        1      34          38        8         10   \n",
      "57   58            Condal        1      22          30        7          8   \n",
      "58   59   Atletico Tetuan        1      19          30        7          5   \n",
      "59   60  Cultural Leonesa        1      14          30        5          4   \n",
      "60   61            Girona        1       0           0        0          0   \n",
      "\n",
      "   GamesLost GoalsFor GoalsAgainst  ... Runner-up Third Fourth Fifth Sixth  \\\n",
      "0        563     5947         3140  ...        23     8      8     3     4   \n",
      "1        608     5900         3114  ...        25    12     12     4     6   \n",
      "2        775     4534         3309  ...         8    16      9     7     6   \n",
      "3        861     4398         3469  ...         6    10     11    10     7   \n",
      "4        920     4631         3700  ...         7    10      5     8    10   \n",
      "..       ...      ...          ...  ...       ...   ...    ...   ...   ...   \n",
      "56        20       38           66  ...         0     0      0     0     0   \n",
      "57        15       37           57  ...         0     0      0     0     0   \n",
      "58        18       51           85  ...         0     0      0     0     0   \n",
      "59        21       34           65  ...         0     0      0     0     0   \n",
      "60         0        0            0  ...         0     0      0     0     0   \n",
      "\n",
      "     T    Debut Since/LastApp BestPosition  Winning Percent  \n",
      "0   79     1929          1929            1         0.331990  \n",
      "1   83     1929          1929            1         0.321603  \n",
      "2   56     1929       2002-03            1         0.278689  \n",
      "3   50  1931-32       1987-88            1         0.265726  \n",
      "4   49     1929          1929            1         0.262598  \n",
      "..  ..      ...           ...          ...              ...  \n",
      "56   0  2009-10       2009-10           20         0.142857  \n",
      "57   0  1956-57       1956-57           16         0.155556  \n",
      "58   0  1951-52       1951-52           16         0.166667  \n",
      "59   0  1955-56       1955-56           15         0.128205  \n",
      "60   0  2017-18       2017-18            9         0.000000  \n",
      "\n",
      "[61 rows x 21 columns]\n"
     ]
    }
   ],
   "source": [
    "add_winning_percent_column(nd)\n",
    "print(nd)"
   ]
  },
  {
   "cell_type": "code",
   "execution_count": 15,
   "metadata": {},
   "outputs": [],
   "source": [
    "def group_teams_by_best_position(df):\n",
    "    \n",
    "    position_points = {}\n",
    "\n",
    "    for ind in df.index:\n",
    "        position_points[df['BestPosition'][ind]] = int( position_points.get(df['BestPosition'][ind], 0) ) + int(df['Points'][ind])\n",
    "\n",
    "    return position_points"
   ]
  },
  {
   "cell_type": "code",
   "execution_count": 16,
   "metadata": {},
   "outputs": [
    {
     "name": "stdout",
     "output_type": "stream",
     "text": [
      "{1: 27933, 3: 5221, 2: 6904, 4: 6563, 6: 2113, 8: 1134, 5: 1884, 11: 445, 7: 1186, 12: 511, 10: 450, 17: 266, 9: 96, 19: 81, 14: 71, 16: 81, 20: 34, 15: 14}\n"
     ]
    }
   ],
   "source": [
    "print(group_teams_by_best_position(nd))"
   ]
  },
  {
   "cell_type": "code",
   "execution_count": null,
   "metadata": {},
   "outputs": [],
   "source": []
  }
 ],
 "metadata": {
  "kernelspec": {
   "display_name": "Python 3",
   "language": "python",
   "name": "python3"
  },
  "language_info": {
   "codemirror_mode": {
    "name": "ipython",
    "version": 3
   },
   "file_extension": ".py",
   "mimetype": "text/x-python",
   "name": "python",
   "nbconvert_exporter": "python",
   "pygments_lexer": "ipython3",
   "version": "3.7.5rc1"
  }
 },
 "nbformat": 4,
 "nbformat_minor": 4
}
